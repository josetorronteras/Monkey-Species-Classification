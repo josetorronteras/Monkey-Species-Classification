{
  "cells": [
    {
      "cell_type": "code",
      "execution_count": 1,
      "metadata": {
        "colab": {
          "base_uri": "https://localhost:8080/"
        },
        "id": "-eZymRgEcCW-",
        "outputId": "3d2aa36b-cae3-4236-cc50-ad976f3260f1"
      },
      "outputs": [
        {
          "data": {
            "text/plain": [
              "['config/config.ini']"
            ]
          },
          "execution_count": 1,
          "metadata": {},
          "output_type": "execute_result"
        }
      ],
      "source": [
        "import configparser\n",
        "config = configparser.ConfigParser()\n",
        "config.read('../config/config.ini')"
      ]
    },
    {
      "cell_type": "code",
      "execution_count": 2,
      "metadata": {
        "id": "yFjXoHwUcCXC"
      },
      "outputs": [],
      "source": [
        "import sys\n",
        "sys.path.insert(0, '../source/')\n",
        "from preprocessing_images import PreprocessingImages"
      ]
    },
    {
      "cell_type": "code",
      "execution_count": 3,
      "metadata": {
        "colab": {
          "base_uri": "https://localhost:8080/",
          "height": 359
        },
        "id": "nsHfN38ucCXD",
        "outputId": "eceafc1e-bf18-4533-c461-7acf17d540f4"
      },
      "outputs": [
        {
          "data": {
            "text/html": [
              "\n",
              "  <div id=\"df-e2399816-6824-441b-a609-d1e0b3ac7ab6\">\n",
              "    <div class=\"colab-df-container\">\n",
              "      <div>\n",
              "<style scoped>\n",
              "    .dataframe tbody tr th:only-of-type {\n",
              "        vertical-align: middle;\n",
              "    }\n",
              "\n",
              "    .dataframe tbody tr th {\n",
              "        vertical-align: top;\n",
              "    }\n",
              "\n",
              "    .dataframe thead th {\n",
              "        text-align: right;\n",
              "    }\n",
              "</style>\n",
              "<table border=\"1\" class=\"dataframe\">\n",
              "  <thead>\n",
              "    <tr style=\"text-align: right;\">\n",
              "      <th></th>\n",
              "      <th>Label</th>\n",
              "      <th>Latin Name</th>\n",
              "      <th>Common Name</th>\n",
              "      <th>Train Images</th>\n",
              "      <th>Validation Images</th>\n",
              "    </tr>\n",
              "  </thead>\n",
              "  <tbody>\n",
              "    <tr>\n",
              "      <th>0</th>\n",
              "      <td>n0</td>\n",
              "      <td>alouatta_palliata\\t</td>\n",
              "      <td>mantled_howler</td>\n",
              "      <td>131</td>\n",
              "      <td>26</td>\n",
              "    </tr>\n",
              "    <tr>\n",
              "      <th>1</th>\n",
              "      <td>n1</td>\n",
              "      <td>erythrocebus_patas\\t</td>\n",
              "      <td>patas_monkey</td>\n",
              "      <td>139</td>\n",
              "      <td>28</td>\n",
              "    </tr>\n",
              "    <tr>\n",
              "      <th>2</th>\n",
              "      <td>n2</td>\n",
              "      <td>cacajao_calvus\\t</td>\n",
              "      <td>bald_uakari</td>\n",
              "      <td>137</td>\n",
              "      <td>27</td>\n",
              "    </tr>\n",
              "    <tr>\n",
              "      <th>3</th>\n",
              "      <td>n3</td>\n",
              "      <td>macaca_fuscata\\t</td>\n",
              "      <td>japanese_macaque</td>\n",
              "      <td>152</td>\n",
              "      <td>30</td>\n",
              "    </tr>\n",
              "    <tr>\n",
              "      <th>4</th>\n",
              "      <td>n4</td>\n",
              "      <td>cebuella_pygmea\\t</td>\n",
              "      <td>pygmy_marmoset</td>\n",
              "      <td>131</td>\n",
              "      <td>26</td>\n",
              "    </tr>\n",
              "    <tr>\n",
              "      <th>5</th>\n",
              "      <td>n5</td>\n",
              "      <td>cebus_capucinus\\t</td>\n",
              "      <td>white_headed_capuchin</td>\n",
              "      <td>141</td>\n",
              "      <td>28</td>\n",
              "    </tr>\n",
              "    <tr>\n",
              "      <th>6</th>\n",
              "      <td>n6</td>\n",
              "      <td>mico_argentatus\\t</td>\n",
              "      <td>silvery_marmoset</td>\n",
              "      <td>132</td>\n",
              "      <td>26</td>\n",
              "    </tr>\n",
              "    <tr>\n",
              "      <th>7</th>\n",
              "      <td>n7</td>\n",
              "      <td>saimiri_sciureus\\t</td>\n",
              "      <td>common_squirrel_monkey</td>\n",
              "      <td>142</td>\n",
              "      <td>28</td>\n",
              "    </tr>\n",
              "    <tr>\n",
              "      <th>8</th>\n",
              "      <td>n8</td>\n",
              "      <td>aotus_nigriceps\\t</td>\n",
              "      <td>black_headed_night_monkey</td>\n",
              "      <td>133</td>\n",
              "      <td>27</td>\n",
              "    </tr>\n",
              "    <tr>\n",
              "      <th>9</th>\n",
              "      <td>n9</td>\n",
              "      <td>trachypithecus_johnii</td>\n",
              "      <td>nilgiri_langur</td>\n",
              "      <td>132</td>\n",
              "      <td>26</td>\n",
              "    </tr>\n",
              "  </tbody>\n",
              "</table>\n",
              "</div>\n",
              "      <button class=\"colab-df-convert\" onclick=\"convertToInteractive('df-e2399816-6824-441b-a609-d1e0b3ac7ab6')\"\n",
              "              title=\"Convert this dataframe to an interactive table.\"\n",
              "              style=\"display:none;\">\n",
              "        \n",
              "  <svg xmlns=\"http://www.w3.org/2000/svg\" height=\"24px\"viewBox=\"0 0 24 24\"\n",
              "       width=\"24px\">\n",
              "    <path d=\"M0 0h24v24H0V0z\" fill=\"none\"/>\n",
              "    <path d=\"M18.56 5.44l.94 2.06.94-2.06 2.06-.94-2.06-.94-.94-2.06-.94 2.06-2.06.94zm-11 1L8.5 8.5l.94-2.06 2.06-.94-2.06-.94L8.5 2.5l-.94 2.06-2.06.94zm10 10l.94 2.06.94-2.06 2.06-.94-2.06-.94-.94-2.06-.94 2.06-2.06.94z\"/><path d=\"M17.41 7.96l-1.37-1.37c-.4-.4-.92-.59-1.43-.59-.52 0-1.04.2-1.43.59L10.3 9.45l-7.72 7.72c-.78.78-.78 2.05 0 2.83L4 21.41c.39.39.9.59 1.41.59.51 0 1.02-.2 1.41-.59l7.78-7.78 2.81-2.81c.8-.78.8-2.07 0-2.86zM5.41 20L4 18.59l7.72-7.72 1.47 1.35L5.41 20z\"/>\n",
              "  </svg>\n",
              "      </button>\n",
              "      \n",
              "  <style>\n",
              "    .colab-df-container {\n",
              "      display:flex;\n",
              "      flex-wrap:wrap;\n",
              "      gap: 12px;\n",
              "    }\n",
              "\n",
              "    .colab-df-convert {\n",
              "      background-color: #E8F0FE;\n",
              "      border: none;\n",
              "      border-radius: 50%;\n",
              "      cursor: pointer;\n",
              "      display: none;\n",
              "      fill: #1967D2;\n",
              "      height: 32px;\n",
              "      padding: 0 0 0 0;\n",
              "      width: 32px;\n",
              "    }\n",
              "\n",
              "    .colab-df-convert:hover {\n",
              "      background-color: #E2EBFA;\n",
              "      box-shadow: 0px 1px 2px rgba(60, 64, 67, 0.3), 0px 1px 3px 1px rgba(60, 64, 67, 0.15);\n",
              "      fill: #174EA6;\n",
              "    }\n",
              "\n",
              "    [theme=dark] .colab-df-convert {\n",
              "      background-color: #3B4455;\n",
              "      fill: #D2E3FC;\n",
              "    }\n",
              "\n",
              "    [theme=dark] .colab-df-convert:hover {\n",
              "      background-color: #434B5C;\n",
              "      box-shadow: 0px 1px 3px 1px rgba(0, 0, 0, 0.15);\n",
              "      filter: drop-shadow(0px 1px 2px rgba(0, 0, 0, 0.3));\n",
              "      fill: #FFFFFF;\n",
              "    }\n",
              "  </style>\n",
              "\n",
              "      <script>\n",
              "        const buttonEl =\n",
              "          document.querySelector('#df-e2399816-6824-441b-a609-d1e0b3ac7ab6 button.colab-df-convert');\n",
              "        buttonEl.style.display =\n",
              "          google.colab.kernel.accessAllowed ? 'block' : 'none';\n",
              "\n",
              "        async function convertToInteractive(key) {\n",
              "          const element = document.querySelector('#df-e2399816-6824-441b-a609-d1e0b3ac7ab6');\n",
              "          const dataTable =\n",
              "            await google.colab.kernel.invokeFunction('convertToInteractive',\n",
              "                                                     [key], {});\n",
              "          if (!dataTable) return;\n",
              "\n",
              "          const docLinkHtml = 'Like what you see? Visit the ' +\n",
              "            '<a target=\"_blank\" href=https://colab.research.google.com/notebooks/data_table.ipynb>data table notebook</a>'\n",
              "            + ' to learn more about interactive tables.';\n",
              "          element.innerHTML = '';\n",
              "          dataTable['output_type'] = 'display_data';\n",
              "          await google.colab.output.renderOutput(dataTable, element);\n",
              "          const docLink = document.createElement('div');\n",
              "          docLink.innerHTML = docLinkHtml;\n",
              "          element.appendChild(docLink);\n",
              "        }\n",
              "      </script>\n",
              "    </div>\n",
              "  </div>\n",
              "  "
            ],
            "text/plain": [
              "   Label                Latin Name                      Common Name  \\\n",
              "0  n0         alouatta_palliata\\t    mantled_howler                   \n",
              "1  n1        erythrocebus_patas\\t    patas_monkey                     \n",
              "2  n2        cacajao_calvus\\t        bald_uakari                      \n",
              "3  n3        macaca_fuscata\\t        japanese_macaque                 \n",
              "4  n4       cebuella_pygmea\\t        pygmy_marmoset                   \n",
              "5  n5       cebus_capucinus\\t        white_headed_capuchin            \n",
              "6  n6       mico_argentatus\\t        silvery_marmoset                 \n",
              "7  n7      saimiri_sciureus\\t        common_squirrel_monkey           \n",
              "8  n8       aotus_nigriceps\\t        black_headed_night_monkey        \n",
              "9  n9       trachypithecus_johnii    nilgiri_langur                   \n",
              "\n",
              "   Train Images  Validation Images  \n",
              "0           131                 26  \n",
              "1           139                 28  \n",
              "2           137                 27  \n",
              "3           152                 30  \n",
              "4           131                 26  \n",
              "5           141                 28  \n",
              "6           132                 26  \n",
              "7           142                 28  \n",
              "8           133                 27  \n",
              "9           132                 26  "
            ]
          },
          "execution_count": 3,
          "metadata": {},
          "output_type": "execute_result"
        }
      ],
      "source": [
        "import pandas as pd\n",
        "cols = ['Label', 'Latin Name', 'Common Name','Train Images', 'Validation Images']\n",
        "label_df = pd.read_csv(f\"../input/archive/monkey_labels.txt\", names=cols, skiprows=1)\n",
        "label_df"
      ]
    },
    {
      "cell_type": "code",
      "execution_count": 4,
      "metadata": {
        "colab": {
          "base_uri": "https://localhost:8080/"
        },
        "id": "WD9i9trvcCXE",
        "outputId": "1333aceb-c5b5-43f9-f8f4-257785355859"
      },
      "outputs": [
        {
          "name": "stdout",
          "output_type": "stream",
          "text": [
            "Found 1098 images belonging to 10 classes.\n",
            "Found 272 images belonging to 10 classes.\n"
          ]
        }
      ],
      "source": [
        "train_generator, validation_generator = PreprocessingImages(config).preprocessImages()"
      ]
    },
    {
      "cell_type": "code",
      "execution_count": 5,
      "metadata": {
        "colab": {
          "base_uri": "https://localhost:8080/"
        },
        "id": "EcvAUVo9cCXF",
        "outputId": "faef7742-d9a6-4995-ad7b-e11e9fe23684"
      },
      "outputs": [
        {
          "name": "stdout",
          "output_type": "stream",
          "text": [
            "Model: \"sequential\"\n",
            "_________________________________________________________________\n",
            " Layer (type)                Output Shape              Param #   \n",
            "=================================================================\n",
            " conv2d (Conv2D)             (None, 74, 74, 32)        896       \n",
            "                                                                 \n",
            " max_pooling2d (MaxPooling2D  (None, 37, 37, 32)       0         \n",
            " )                                                               \n",
            "                                                                 \n",
            " conv2d_1 (Conv2D)           (None, 18, 18, 32)        9248      \n",
            "                                                                 \n",
            " max_pooling2d_1 (MaxPooling  (None, 9, 9, 32)         0         \n",
            " 2D)                                                             \n",
            "                                                                 \n",
            " flatten (Flatten)           (None, 2592)              0         \n",
            "                                                                 \n",
            " dense (Dense)               (None, 150)               388950    \n",
            "                                                                 \n",
            " dense_1 (Dense)             (None, 10)                1510      \n",
            "                                                                 \n",
            "=================================================================\n",
            "Total params: 400,604\n",
            "Trainable params: 400,604\n",
            "Non-trainable params: 0\n",
            "_________________________________________________________________\n"
          ]
        }
      ],
      "source": [
        "from cnn_model import CNNModel\n",
        "model = CNNModel(config, train_generator[0][0][0]).build_model()\n",
        "model.compile(optimizer='adam', loss='categorical_crossentropy', metrics=['acc'])\n",
        "model.summary()"
      ]
    },
    {
      "cell_type": "code",
      "execution_count": 6,
      "metadata": {
        "id": "RbnAIz2ScCXG"
      },
      "outputs": [],
      "source": [
        "# Create the callbacks\n",
        "from keras.callbacks import TensorBoard, EarlyStopping\n",
        "callbacks = [\n",
        "            TensorBoard(log_dir=config['CALLBACKS']['TENSORBOARD_LOGDIR'] + \"3\",\n",
        "                        write_images=config['CALLBACKS']['TENSORBOARD_WRITEIMAGES'],\n",
        "                        write_graph=config['CALLBACKS']['TENSORBOARD_WRITEGRAPH'],\n",
        "                        update_freq=config['CALLBACKS']['TENSORBOARD_UPDATEFREQ']\n",
        "                        ),\n",
        "            EarlyStopping(monitor=config['CALLBACKS']['EARLYSTOPPING_MONITOR'],\n",
        "                          mode=config['CALLBACKS']['EARLYSTOPPING_MODE'],\n",
        "                          patience=int(config['CALLBACKS']['EARLYSTOPPING_PATIENCE']),\n",
        "                          verbose=1)\n",
        "]"
      ]
    },
    {
      "cell_type": "code",
      "execution_count": 7,
      "metadata": {
        "colab": {
          "base_uri": "https://localhost:8080/"
        },
        "id": "ccjsp9l-cCXH",
        "outputId": "75956a7d-fb46-4c8d-c19a-328696ae203d"
      },
      "outputs": [
        {
          "name": "stderr",
          "output_type": "stream",
          "text": [
            "<ipython-input-7-42bba9ec74c2>:1: UserWarning: `Model.fit_generator` is deprecated and will be removed in a future version. Please use `Model.fit`, which supports generators.\n",
            "  history = model.fit_generator(\n"
          ]
        },
        {
          "name": "stdout",
          "output_type": "stream",
          "text": [
            "Epoch 1/200\n",
            "17/17 [==============================] - 48s 2s/step - loss: 2.2951 - acc: 0.1518 - val_loss: 2.2217 - val_acc: 0.1680\n",
            "Epoch 2/200\n",
            "17/17 [==============================] - 39s 2s/step - loss: 2.1459 - acc: 0.2157 - val_loss: 2.0311 - val_acc: 0.2500\n",
            "Epoch 3/200\n",
            "17/17 [==============================] - 51s 3s/step - loss: 2.0291 - acc: 0.2640 - val_loss: 1.9767 - val_acc: 0.3008\n",
            "Epoch 4/200\n",
            "17/17 [==============================] - 42s 3s/step - loss: 1.8786 - acc: 0.3443 - val_loss: 1.8628 - val_acc: 0.3594\n",
            "Epoch 5/200\n",
            "17/17 [==============================] - 41s 3s/step - loss: 1.7466 - acc: 0.3772 - val_loss: 1.8142 - val_acc: 0.3242\n",
            "Epoch 6/200\n",
            "17/17 [==============================] - 41s 2s/step - loss: 1.7175 - acc: 0.4052 - val_loss: 1.5751 - val_acc: 0.4805\n",
            "Epoch 7/200\n",
            "17/17 [==============================] - 40s 2s/step - loss: 1.6158 - acc: 0.4294 - val_loss: 1.6549 - val_acc: 0.4414\n",
            "Epoch 8/200\n",
            "17/17 [==============================] - 40s 2s/step - loss: 1.6130 - acc: 0.4255 - val_loss: 1.4316 - val_acc: 0.5156\n",
            "Epoch 9/200\n",
            "17/17 [==============================] - 41s 2s/step - loss: 1.5205 - acc: 0.4603 - val_loss: 1.3828 - val_acc: 0.5508\n",
            "Epoch 10/200\n",
            "17/17 [==============================] - 41s 2s/step - loss: 1.4772 - acc: 0.4874 - val_loss: 1.3271 - val_acc: 0.5391\n",
            "Epoch 11/200\n",
            "17/17 [==============================] - 40s 2s/step - loss: 1.4473 - acc: 0.4797 - val_loss: 1.2974 - val_acc: 0.5820\n",
            "Epoch 12/200\n",
            "17/17 [==============================] - 42s 3s/step - loss: 1.4354 - acc: 0.4990 - val_loss: 1.2773 - val_acc: 0.5781\n",
            "Epoch 13/200\n",
            "17/17 [==============================] - 40s 2s/step - loss: 1.3913 - acc: 0.5068 - val_loss: 1.2528 - val_acc: 0.5742\n",
            "Epoch 14/200\n",
            "17/17 [==============================] - 42s 3s/step - loss: 1.3659 - acc: 0.5126 - val_loss: 1.2680 - val_acc: 0.5430\n",
            "Epoch 15/200\n",
            "17/17 [==============================] - 40s 2s/step - loss: 1.3387 - acc: 0.5542 - val_loss: 1.2307 - val_acc: 0.5781\n",
            "Epoch 16/200\n",
            "17/17 [==============================] - 42s 3s/step - loss: 1.2936 - acc: 0.5368 - val_loss: 1.3631 - val_acc: 0.5156\n",
            "Epoch 17/200\n",
            "17/17 [==============================] - 39s 2s/step - loss: 1.2803 - acc: 0.5522 - val_loss: 1.1618 - val_acc: 0.5977\n",
            "Epoch 18/200\n",
            "17/17 [==============================] - 42s 2s/step - loss: 1.2354 - acc: 0.5735 - val_loss: 1.1464 - val_acc: 0.5977\n",
            "Epoch 19/200\n",
            "17/17 [==============================] - 42s 2s/step - loss: 1.2535 - acc: 0.5532 - val_loss: 1.0794 - val_acc: 0.6133\n",
            "Epoch 20/200\n",
            "17/17 [==============================] - 41s 2s/step - loss: 1.2065 - acc: 0.5725 - val_loss: 1.2250 - val_acc: 0.5781\n",
            "Epoch 21/200\n",
            "17/17 [==============================] - 41s 2s/step - loss: 1.2215 - acc: 0.5580 - val_loss: 1.0950 - val_acc: 0.6484\n",
            "Epoch 22/200\n",
            "17/17 [==============================] - 41s 2s/step - loss: 1.2113 - acc: 0.5687 - val_loss: 1.0947 - val_acc: 0.6211\n",
            "Epoch 23/200\n",
            "17/17 [==============================] - 42s 2s/step - loss: 1.2029 - acc: 0.5754 - val_loss: 1.1097 - val_acc: 0.6172\n",
            "Epoch 24/200\n",
            "17/17 [==============================] - 52s 3s/step - loss: 1.1453 - acc: 0.6112 - val_loss: 1.1150 - val_acc: 0.5781\n",
            "Epoch 24: early stopping\n"
          ]
        }
      ],
      "source": [
        "history = model.fit_generator(\n",
        "    train_generator,\n",
        "    steps_per_epoch=train_generator.samples // train_generator.batch_size,\n",
        "    epochs = int(config['CNN_CONFIGURATION']['EPOCHS']),\n",
        "    validation_data=validation_generator,\n",
        "    validation_steps=validation_generator.samples // validation_generator.batch_size,\n",
        "    callbacks=callbacks,\n",
        "    verbose = 1\n",
        ")"
      ]
    },
    {
      "cell_type": "code",
      "execution_count": 9,
      "metadata": {
        "colab": {
          "base_uri": "https://localhost:8080/",
          "height": 472
        },
        "id": "QPJMvNm8cCXI",
        "outputId": "08450a7c-5baa-4fe1-ed19-83e242cbdd9f"
      },
      "outputs": [
        {
          "data": {
            "image/png": "[encoded data removed]",
            "text/plain": [
              "<Figure size 640x480 with 1 Axes>"
            ]
          },
          "metadata": {},
          "output_type": "display_data"
        }
      ],
      "source": [
        "from aux_functions import pltResults\n",
        "# Plot accuracy graph\n",
        "pltResults(\n",
        "    '../logs/',\n",
        "    history.history['acc'],\n",
        "    history.history['val_acc'],\n",
        "    'Model accuracy',\n",
        "    'epoch',\n",
        "    'accuracy')"
      ]
    },
    {
      "cell_type": "code",
      "execution_count": 10,
      "metadata": {
        "colab": {
          "base_uri": "https://localhost:8080/",
          "height": 472
        },
        "id": "dIP2otLtcCXK",
        "outputId": "cce276dd-45ec-438e-e335-7f1f7d4f3096"
      },
      "outputs": [
        {
          "data": {
            "image/png": "[encoded data removed]",
            "text/plain": [
              "<Figure size 640x480 with 1 Axes>"
            ]
          },
          "metadata": {},
          "output_type": "display_data"
        }
      ],
      "source": [
        "# Plot loss graph\n",
        "pltResults(\n",
        "    '../logs/',\n",
        "    history.history['loss'],\n",
        "    history.history['val_loss'],\n",
        "    'Model loss',\n",
        "    'epoch',\n",
        "    'loss')"
      ]
    },
    {
      "cell_type": "code",
      "execution_count": null,
      "metadata": {
        "id": "KJrPoHZeOfUr"
      },
      "outputs": [],
      "source": []
    }
  ],
  "metadata": {
    "accelerator": "GPU",
    "colab": {
      "provenance": []
    },
    "gpuClass": "standard",
    "kernelspec": {
      "display_name": "env",
      "language": "python",
      "name": "python3"
    },
    "language_info": {
      "codemirror_mode": {
        "name": "ipython",
        "version": 3
      },
      "file_extension": ".py",
      "mimetype": "text/x-python",
      "name": "python",
      "nbconvert_exporter": "python",
      "pygments_lexer": "ipython3",
      "version": "3.9.6"
    }
  },
  "nbformat": 4,
  "nbformat_minor": 0
}
