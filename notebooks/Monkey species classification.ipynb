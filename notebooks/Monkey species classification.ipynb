{
 "cells": [
  {
   "cell_type": "code",
   "execution_count": null,
   "metadata": {},
   "outputs": [],
   "source": [
    "import configparser\n",
    "config = configparser.ConfigParser()\n",
    "config.read('../config/config.ini')"
   ]
  },
  {
   "cell_type": "code",
   "execution_count": null,
   "metadata": {},
   "outputs": [],
   "source": [
    "import sys\n",
    "sys.path.insert(0, '../source/')\n",
    "from preprocessing_images import PreprocessingImages"
   ]
  },
  {
   "cell_type": "code",
   "execution_count": null,
   "metadata": {},
   "outputs": [],
   "source": [
    "import pandas as pd\n",
    "cols = ['Label', 'Latin Name', 'Common Name','Train Images', 'Validation Images']\n",
    "label_df = pd.read_csv(f\"../input/archive/monkey_labels.txt\", names=cols, skiprows=1)\n",
    "label_df"
   ]
  },
  {
   "cell_type": "code",
   "execution_count": null,
   "metadata": {},
   "outputs": [],
   "source": [
    "train_generator, validation_generator = PreprocessingImages(config).preprocessImages()"
   ]
  },
  {
   "cell_type": "code",
   "execution_count": null,
   "metadata": {},
   "outputs": [],
   "source": [
    "from cnn_model import CNNModel\n",
    "model = CNNModel(config, train_generator[0][0][0]).build_model()\n",
    "model.compile(optimizer='adam', loss='categorical_crossentropy', metrics=['acc'])\n",
    "model.summary()"
   ]
  },
  {
   "cell_type": "code",
   "execution_count": null,
   "metadata": {},
   "outputs": [],
   "source": [
    "# Create the callbacks\n",
    "from keras.callbacks import TensorBoard, EarlyStopping\n",
    "callbacks = [\n",
    "            TensorBoard(log_dir=config['CALLBACKS']['TENSORBOARD_LOGDIR'] + \"3\",\n",
    "                        write_images=config['CALLBACKS']['TENSORBOARD_WRITEIMAGES'],\n",
    "                        write_graph=config['CALLBACKS']['TENSORBOARD_WRITEGRAPH'],\n",
    "                        update_freq=config['CALLBACKS']['TENSORBOARD_UPDATEFREQ']\n",
    "                        ),\n",
    "            EarlyStopping(monitor=config['CALLBACKS']['EARLYSTOPPING_MONITOR'],\n",
    "                          mode=config['CALLBACKS']['EARLYSTOPPING_MODE'],\n",
    "                          patience=int(config['CALLBACKS']['EARLYSTOPPING_PATIENCE']),\n",
    "                          verbose=1)\n",
    "]"
   ]
  },
  {
   "cell_type": "code",
   "execution_count": null,
   "metadata": {},
   "outputs": [],
   "source": [
    "history = model.fit_generator(\n",
    "    train_generator,\n",
    "    steps_per_epoch=train_generator.samples // train_generator.batch_size,\n",
    "    epochs = int(config['CNN_CONFIGURATION']['EPOCHS']),\n",
    "    validation_data=validation_generator,\n",
    "    validation_steps=validation_generator.samples // validation_generator.batch_size,\n",
    "    callbacks=callbacks,\n",
    "    verbose = 1\n",
    ")"
   ]
  },
  {
   "cell_type": "code",
   "execution_count": null,
   "metadata": {},
   "outputs": [],
   "source": [
    "from aux_functions import pltResults\n",
    "# Plot accuracy graph\n",
    "pltResults(\n",
    "    '../logs/',\n",
    "    history.history['acc'],\n",
    "    history.history['val_acc'],\n",
    "    'Model accuracy',\n",
    "    'epoch',\n",
    "    'accuracy')"
   ]
  },
  {
   "cell_type": "code",
   "execution_count": null,
   "metadata": {},
   "outputs": [],
   "source": [
    "# Plot loss graph\n",
    "pltResults(\n",
    "    '../logs/',\n",
    "    history.history['loss'],\n",
    "    history.history['val_loss'],\n",
    "    'Model loss',\n",
    "    'epoch',\n",
    "    'loss')"
   ]
  }
 ],
 "metadata": {
  "kernelspec": {
   "display_name": "env",
   "language": "python",
   "name": "python3"
  },
  "language_info": {
   "codemirror_mode": {
    "name": "ipython",
    "version": 3
   },
   "file_extension": ".py",
   "mimetype": "text/x-python",
   "name": "python",
   "nbconvert_exporter": "python",
   "pygments_lexer": "ipython3",
   "version": "3.9.6"
  },
  "orig_nbformat": 4
 },
 "nbformat": 4,
 "nbformat_minor": 2
}
