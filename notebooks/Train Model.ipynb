{
 "cells": [
  {
   "cell_type": "code",
   "execution_count": 1,
   "metadata": {},
   "outputs": [],
   "source": [
    "import numpy as np\n",
    "import configparser\n",
    "import matplotlib.pyplot as plt"
   ]
  },
  {
   "cell_type": "code",
   "execution_count": 2,
   "metadata": {},
   "outputs": [
    {
     "data": {
      "text/plain": [
       "['../config/config.ini']"
      ]
     },
     "execution_count": 2,
     "metadata": {},
     "output_type": "execute_result"
    }
   ],
   "source": [
    "config = configparser.ConfigParser()\n",
    "config.read('../config/config.ini')"
   ]
  },
  {
   "cell_type": "code",
   "execution_count": 3,
   "metadata": {},
   "outputs": [
    {
     "name": "stderr",
     "output_type": "stream",
     "text": [
      "Using TensorFlow backend.\n"
     ]
    }
   ],
   "source": [
    "import sys\n",
    "sys.path.insert(0, '../source/')\n",
    "from Get_Train_Test_Data import GetTrainTestData\n",
    "from Aux_Functions import pltResults, confusionMatrix"
   ]
  },
  {
   "cell_type": "code",
   "execution_count": 4,
   "metadata": {},
   "outputs": [],
   "source": [
    "#GetTrainTestData(config).createDataset()"
   ]
  },
  {
   "cell_type": "code",
   "execution_count": 5,
   "metadata": {
    "scrolled": true
   },
   "outputs": [
    {
     "name": "stderr",
     "output_type": "stream",
     "text": [
      "  9%|▉         | 12/131 [00:00<00:01, 112.71it/s]"
     ]
    },
    {
     "name": "stdout",
     "output_type": "stream",
     "text": [
      "Obteniendo..../input/n0\n"
     ]
    },
    {
     "name": "stderr",
     "output_type": "stream",
     "text": [
      "100%|██████████| 131/131 [00:00<00:00, 146.64it/s]\n",
      " 11%|█         | 15/139 [00:00<00:00, 139.26it/s]"
     ]
    },
    {
     "name": "stdout",
     "output_type": "stream",
     "text": [
      "Obteniendo..../input/n1\n"
     ]
    },
    {
     "name": "stderr",
     "output_type": "stream",
     "text": [
      "100%|██████████| 139/139 [00:00<00:00, 143.90it/s]\n",
      " 11%|█         | 15/137 [00:00<00:00, 144.97it/s]"
     ]
    },
    {
     "name": "stdout",
     "output_type": "stream",
     "text": [
      "Obteniendo..../input/n2\n"
     ]
    },
    {
     "name": "stderr",
     "output_type": "stream",
     "text": [
      "100%|██████████| 137/137 [00:00<00:00, 152.49it/s]\n",
      " 11%|█         | 16/152 [00:00<00:00, 156.37it/s]"
     ]
    },
    {
     "name": "stdout",
     "output_type": "stream",
     "text": [
      "Obteniendo..../input/n3\n"
     ]
    },
    {
     "name": "stderr",
     "output_type": "stream",
     "text": [
      "100%|██████████| 152/152 [00:00<00:00, 153.83it/s]\n",
      " 11%|█         | 14/131 [00:00<00:00, 133.11it/s]"
     ]
    },
    {
     "name": "stdout",
     "output_type": "stream",
     "text": [
      "Obteniendo..../input/n4\n"
     ]
    },
    {
     "name": "stderr",
     "output_type": "stream",
     "text": [
      "100%|██████████| 131/131 [00:00<00:00, 142.25it/s]\n",
      " 11%|█         | 15/141 [00:00<00:00, 143.57it/s]"
     ]
    },
    {
     "name": "stdout",
     "output_type": "stream",
     "text": [
      "Obteniendo..../input/n5\n"
     ]
    },
    {
     "name": "stderr",
     "output_type": "stream",
     "text": [
      "100%|██████████| 141/141 [00:00<00:00, 149.91it/s]\n",
      "  8%|▊         | 11/132 [00:00<00:01, 106.83it/s]"
     ]
    },
    {
     "name": "stdout",
     "output_type": "stream",
     "text": [
      "Obteniendo..../input/n6\n"
     ]
    },
    {
     "name": "stderr",
     "output_type": "stream",
     "text": [
      "100%|██████████| 132/132 [00:01<00:00, 130.43it/s]\n",
      " 10%|▉         | 14/142 [00:00<00:00, 137.29it/s]"
     ]
    },
    {
     "name": "stdout",
     "output_type": "stream",
     "text": [
      "Obteniendo..../input/n7\n"
     ]
    },
    {
     "name": "stderr",
     "output_type": "stream",
     "text": [
      "100%|██████████| 142/142 [00:01<00:00, 115.65it/s]\n",
      " 10%|▉         | 13/133 [00:00<00:00, 128.49it/s]"
     ]
    },
    {
     "name": "stdout",
     "output_type": "stream",
     "text": [
      "Obteniendo..../input/n8\n"
     ]
    },
    {
     "name": "stderr",
     "output_type": "stream",
     "text": [
      "100%|██████████| 133/133 [00:01<00:00, 116.16it/s]\n",
      "  8%|▊         | 11/130 [00:00<00:01, 100.81it/s]"
     ]
    },
    {
     "name": "stdout",
     "output_type": "stream",
     "text": [
      "Obteniendo..../input/n9\n"
     ]
    },
    {
     "name": "stderr",
     "output_type": "stream",
     "text": [
      "100%|██████████| 130/130 [00:01<00:00, 87.82it/s]\n"
     ]
    },
    {
     "name": "stdout",
     "output_type": "stream",
     "text": [
      "test-size = 0.25 Cambiar valor en config.py\n",
      "X_train Tamaño: (1026, 150, 150, 3) - X_test Tamaño: (171, 150, 150, 3) - X_val Tamaño: (171, 150, 150, 3)              - y_train Tamaño: (1026,) - y_test Tamaño: (171,) - y_val Tamaño: (171,) \n"
     ]
    }
   ],
   "source": [
    "X_train, X_test,X_val, y_train, y_test, y_val = GetTrainTestData(config).readDataset()"
   ]
  },
  {
   "cell_type": "code",
   "execution_count": 6,
   "metadata": {},
   "outputs": [],
   "source": [
    "from keras.utils import np_utils\n",
    "from keras.callbacks import TensorBoard, EarlyStopping"
   ]
  },
  {
   "cell_type": "code",
   "execution_count": 7,
   "metadata": {},
   "outputs": [],
   "source": [
    "y_test_for_matrix_confusion = y_test\n",
    "y_train = np_utils.to_categorical(y_train)\n",
    "y_test = np_utils.to_categorical(y_test)\n",
    "y_val = np_utils.to_categorical(y_val)"
   ]
  },
  {
   "cell_type": "code",
   "execution_count": 8,
   "metadata": {},
   "outputs": [],
   "source": [
    "from CNN_Model import CNNModel\n",
    "from keras.optimizers import SGD"
   ]
  },
  {
   "cell_type": "code",
   "execution_count": 9,
   "metadata": {},
   "outputs": [
    {
     "name": "stdout",
     "output_type": "stream",
     "text": [
      "WARNING:tensorflow:From /anaconda3/envs/tfg/lib/python3.7/site-packages/tensorflow/python/framework/op_def_library.py:263: colocate_with (from tensorflow.python.framework.ops) is deprecated and will be removed in a future version.\n",
      "Instructions for updating:\n",
      "Colocations handled automatically by placer.\n",
      "WARNING:tensorflow:From /anaconda3/envs/tfg/lib/python3.7/site-packages/keras/backend/tensorflow_backend.py:3445: calling dropout (from tensorflow.python.ops.nn_ops) with keep_prob is deprecated and will be removed in a future version.\n",
      "Instructions for updating:\n",
      "Please use `rate` instead of `keep_prob`. Rate should be set to `rate = 1 - keep_prob`.\n"
     ]
    }
   ],
   "source": [
    "model = CNNModel(config, X_train).build_model()\n",
    "\n",
    "sgd = SGD(lr = 0.001, decay = 1e-6, momentum = 0.9, nesterov=True)\n",
    "model.compile(loss = 'categorical_crossentropy', optimizer = sgd, metrics = ['accuracy'])"
   ]
  },
  {
   "cell_type": "code",
   "execution_count": 10,
   "metadata": {},
   "outputs": [
    {
     "name": "stdout",
     "output_type": "stream",
     "text": [
      "_________________________________________________________________\n",
      "Layer (type)                 Output Shape              Param #   \n",
      "=================================================================\n",
      "conv2d_1 (Conv2D)            (None, 148, 148, 32)      896       \n",
      "_________________________________________________________________\n",
      "conv2d_2 (Conv2D)            (None, 146, 146, 64)      18496     \n",
      "_________________________________________________________________\n",
      "max_pooling2d_1 (MaxPooling2 (None, 73, 73, 64)        0         \n",
      "_________________________________________________________________\n",
      "dropout_1 (Dropout)          (None, 73, 73, 64)        0         \n",
      "_________________________________________________________________\n",
      "conv2d_3 (Conv2D)            (None, 71, 71, 128)       73856     \n",
      "_________________________________________________________________\n",
      "conv2d_4 (Conv2D)            (None, 69, 69, 64)        73792     \n",
      "_________________________________________________________________\n",
      "max_pooling2d_2 (MaxPooling2 (None, 34, 34, 64)        0         \n",
      "_________________________________________________________________\n",
      "dropout_2 (Dropout)          (None, 34, 34, 64)        0         \n",
      "_________________________________________________________________\n",
      "flatten_1 (Flatten)          (None, 73984)             0         \n",
      "_________________________________________________________________\n",
      "dense_1 (Dense)              (None, 512)               37880320  \n",
      "_________________________________________________________________\n",
      "dropout_3 (Dropout)          (None, 512)               0         \n",
      "_________________________________________________________________\n",
      "dense_2 (Dense)              (None, 10)                5130      \n",
      "=================================================================\n",
      "Total params: 38,052,490\n",
      "Trainable params: 38,052,490\n",
      "Non-trainable params: 0\n",
      "_________________________________________________________________\n"
     ]
    }
   ],
   "source": [
    "model.summary()"
   ]
  },
  {
   "cell_type": "code",
   "execution_count": 11,
   "metadata": {},
   "outputs": [],
   "source": [
    "# Creamos los callbacks para el modelo\n",
    "callbacks = [\n",
    "            TensorBoard(log_dir=config['CALLBACKS']['TENSORBOARD_LOGDIR'] + \"3\",\n",
    "                        write_images=config['CALLBACKS']['TENSORBOARD_WRITEIMAGES'],\n",
    "                        write_graph=config['CALLBACKS']['TENSORBOARD_WRITEGRAPH'],\n",
    "                        update_freq=config['CALLBACKS']['TENSORBOARD_UPDATEFREQ']\n",
    "                        ),\n",
    "            EarlyStopping(monitor=config['CALLBACKS']['EARLYSTOPPING_MONITOR'],\n",
    "                          mode=config['CALLBACKS']['EARLYSTOPPING_MODE'],\n",
    "                          patience=int(config['CALLBACKS']['EARLYSTOPPING_PATIENCE']),\n",
    "                          verbose=1)\n",
    "]"
   ]
  },
  {
   "cell_type": "code",
   "execution_count": 12,
   "metadata": {},
   "outputs": [
    {
     "name": "stdout",
     "output_type": "stream",
     "text": [
      "WARNING:tensorflow:From /anaconda3/envs/tfg/lib/python3.7/site-packages/tensorflow/python/ops/math_ops.py:3066: to_int32 (from tensorflow.python.ops.math_ops) is deprecated and will be removed in a future version.\n",
      "Instructions for updating:\n",
      "Use tf.cast instead.\n",
      "Train on 1026 samples, validate on 171 samples\n",
      "Epoch 1/70\n",
      "1026/1026 [==============================] - 198s 193ms/step - loss: 2.2153 - acc: 0.1764 - val_loss: 1.9829 - val_acc: 0.3392\n",
      "Epoch 2/70\n",
      "1026/1026 [==============================] - 225s 219ms/step - loss: 1.8456 - acc: 0.3441 - val_loss: 1.6901 - val_acc: 0.4094\n",
      "Epoch 3/70\n",
      "1026/1026 [==============================] - 232s 226ms/step - loss: 1.5214 - acc: 0.4883 - val_loss: 1.4154 - val_acc: 0.4386\n",
      "Epoch 4/70\n",
      "1026/1026 [==============================] - 209s 204ms/step - loss: 1.2838 - acc: 0.5507 - val_loss: 1.3605 - val_acc: 0.5146\n",
      "Epoch 5/70\n",
      "1026/1026 [==============================] - 198s 193ms/step - loss: 1.0578 - acc: 0.6413 - val_loss: 1.3594 - val_acc: 0.4795\n",
      "Epoch 6/70\n",
      "1026/1026 [==============================] - 179s 174ms/step - loss: 0.8803 - acc: 0.7008 - val_loss: 1.2809 - val_acc: 0.5322\n",
      "Epoch 7/70\n",
      "1026/1026 [==============================] - 194s 189ms/step - loss: 0.8811 - acc: 0.7066 - val_loss: 1.1175 - val_acc: 0.5965\n",
      "Epoch 8/70\n",
      "1026/1026 [==============================] - 201s 196ms/step - loss: 0.6626 - acc: 0.7875 - val_loss: 1.1274 - val_acc: 0.6140\n",
      "Epoch 9/70\n",
      "1026/1026 [==============================] - 176s 171ms/step - loss: 0.5281 - acc: 0.8343 - val_loss: 1.1657 - val_acc: 0.5965\n",
      "Epoch 10/70\n",
      "1026/1026 [==============================] - 174s 170ms/step - loss: 0.5796 - acc: 0.8070 - val_loss: 1.1889 - val_acc: 0.6199\n",
      "Epoch 11/70\n",
      "1026/1026 [==============================] - 179s 174ms/step - loss: 0.5016 - acc: 0.8333 - val_loss: 1.1391 - val_acc: 0.6199\n",
      "Epoch 12/70\n",
      "1026/1026 [==============================] - 170s 166ms/step - loss: 0.2748 - acc: 0.9084 - val_loss: 1.4152 - val_acc: 0.5906\n",
      "Epoch 00012: early stopping\n"
     ]
    }
   ],
   "source": [
    "history = model.fit(\n",
    "        X_train,\n",
    "        y_train,\n",
    "        batch_size = int(config['CNN_CONFIGURATION']['BATCH_SIZE']),\n",
    "        epochs = int(config['CNN_CONFIGURATION']['EPOCHS']),\n",
    "        verbose = 1,\n",
    "        validation_data = (X_val, y_val),\n",
    "        callbacks=callbacks)"
   ]
  },
  {
   "cell_type": "code",
   "execution_count": 13,
   "metadata": {},
   "outputs": [],
   "source": [
    "# Grafica Accuracy\n",
    "pltResults(\n",
    "    '../logs/',\n",
    "    history.history['acc'],\n",
    "    history.history['val_acc'],\n",
    "    'Model accuracy',\n",
    "    'epoch',\n",
    "    'accuracy')"
   ]
  },
  {
   "cell_type": "code",
   "execution_count": 14,
   "metadata": {},
   "outputs": [],
   "source": [
    "# Grafica Loss\n",
    "pltResults(\n",
    "    '../logs/',\n",
    "    history.history['loss'],\n",
    "    history.history['val_loss'],\n",
    "    'Model loss',\n",
    "    'epoch',\n",
    "    'loss')"
   ]
  },
  {
   "cell_type": "code",
   "execution_count": 15,
   "metadata": {},
   "outputs": [
    {
     "name": "stdout",
     "output_type": "stream",
     "text": [
      "Test score: 1.2949193618450945\n",
      "Test accuracy: 0.637426899887665\n"
     ]
    }
   ],
   "source": [
    "score = model.evaluate(X_test, y_test, verbose=0)\n",
    "print('Test score:', score[0])\n",
    "print('Test accuracy:', score[1])"
   ]
  },
  {
   "cell_type": "code",
   "execution_count": 16,
   "metadata": {},
   "outputs": [
    {
     "name": "stdout",
     "output_type": "stream",
     "text": [
      "Predecido:  [0 4 3 2 6 9 1 1 1 2 3 9 5 8 3 1 1 8 4 2 2 9 6 0 2 1 1 1 5 0 3 1 1 0 0 5 1\n",
      " 4 4 5 8 3 8 1 7 3 1 1 2 6 1 0 0 7 2 1 2 4 3 5 4 1 1 9 4 0 0 9 8 4 4 4 6 7\n",
      " 6 0 3 6 7 3 7 7 1 6 3 1 6 5 7 8 1 7 1 7 4 0 5 1 5 0 4 7 9 8 8 5 9 7 4 4 7\n",
      " 1 7 1 0 2 2 7 7 4 2 8 7 6 9 1 2 6 3 3 3 6 6 2 1 8 1 1 4 1 7 9 8 9 6 5 1 4\n",
      " 1 1 5 4 5 2 1 7 0 5 2 3 3 5 3 1 2 6 1 3 2 9 8]\n"
     ]
    }
   ],
   "source": [
    "Y_pred = model.predict(X_test)\n",
    "y_pred = np.argmax(Y_pred, axis=1)\n",
    "\n",
    "print(\"Predecido: \", y_pred)"
   ]
  },
  {
   "cell_type": "code",
   "execution_count": 18,
   "metadata": {},
   "outputs": [
    {
     "data": {
      "image/png": "[encoded data removed]",
      "text/plain": [
       "<Figure size 720x720 with 2 Axes>"
      ]
     },
     "metadata": {
      "needs_background": "light"
     },
     "output_type": "display_data"
    }
   ],
   "source": [
    "confusionMatrix(y_test_for_matrix_confusion, y_pred)"
   ]
  },
  {
   "cell_type": "code",
   "execution_count": 26,
   "metadata": {},
   "outputs": [
    {
     "data": {
      "image/png": "[encoded data removed]",
      "text/plain": [
       "<Figure size 432x288 with 1 Axes>"
      ]
     },
     "metadata": {
      "needs_background": "light"
     },
     "output_type": "display_data"
    }
   ],
   "source": [
    "import matplotlib.image as mpimg\n",
    "img=mpimg.imread('../logs/accuracy.png')\n",
    "plt.imshow(img) \n",
    "plt.show()"
   ]
  },
  {
   "cell_type": "code",
   "execution_count": 27,
   "metadata": {},
   "outputs": [
    {
     "data": {
      "image/png": "[encoded data removed]",
      "text/plain": [
       "<Figure size 432x288 with 1 Axes>"
      ]
     },
     "metadata": {
      "needs_background": "light"
     },
     "output_type": "display_data"
    }
   ],
   "source": [
    "img=mpimg.imread('../logs/loss.png')\n",
    "plt.imshow(img) \n",
    "plt.show()"
   ]
  },
  {
   "cell_type": "code",
   "execution_count": null,
   "metadata": {},
   "outputs": [],
   "source": []
  }
 ],
 "metadata": {
  "kernelspec": {
   "display_name": "Python 3",
   "language": "python",
   "name": "python3"
  },
  "language_info": {
   "codemirror_mode": {
    "name": "ipython",
    "version": 3
   },
   "file_extension": ".py",
   "mimetype": "text/x-python",
   "name": "python",
   "nbconvert_exporter": "python",
   "pygments_lexer": "ipython3",
   "version": "3.7.3"
  }
 },
 "nbformat": 4,
 "nbformat_minor": 2
}
